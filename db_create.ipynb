{
 "cells": [
  {
   "cell_type": "code",
   "execution_count": 3,
   "id": "872d7ace",
   "metadata": {},
   "outputs": [],
   "source": [
    "import pandas as pd\n",
    "import os\n",
    "import sqlite3"
   ]
  },
  {
   "cell_type": "code",
   "execution_count": 4,
   "id": "de93c7f3",
   "metadata": {},
   "outputs": [
    {
     "name": "stdout",
     "output_type": "stream",
     "text": [
      "Database already exists.\n"
     ]
    }
   ],
   "source": [
    "%run initial_gen.py"
   ]
  },
  {
   "cell_type": "code",
   "execution_count": 5,
   "id": "cb0f1197",
   "metadata": {},
   "outputs": [],
   "source": [
    "conn = sqlite3.connect(\"cat_cafe.db\")\n",
    "cursor = conn.cursor()"
   ]
  },
  {
   "cell_type": "code",
   "execution_count": 14,
   "id": "f545c177",
   "metadata": {},
   "outputs": [],
   "source": [
    "def sql_pandas(query):\n",
    "    return pd.read_sql_query(query, conn)"
   ]
  },
  {
   "cell_type": "code",
   "execution_count": null,
   "id": "37389019",
   "metadata": {},
   "outputs": [],
   "source": [
    "def query(query, params=()):\n",
    "    cursor.execute(query, params)\n",
    "    conn.commit()"
   ]
  },
  {
   "cell_type": "code",
   "execution_count": 18,
   "id": "13a07d92",
   "metadata": {},
   "outputs": [
    {
     "data": {
      "text/html": [
       "<div>\n",
       "<style scoped>\n",
       "    .dataframe tbody tr th:only-of-type {\n",
       "        vertical-align: middle;\n",
       "    }\n",
       "\n",
       "    .dataframe tbody tr th {\n",
       "        vertical-align: top;\n",
       "    }\n",
       "\n",
       "    .dataframe thead th {\n",
       "        text-align: right;\n",
       "    }\n",
       "</style>\n",
       "<table border=\"1\" class=\"dataframe\">\n",
       "  <thead>\n",
       "    <tr style=\"text-align: right;\">\n",
       "      <th></th>\n",
       "      <th>type</th>\n",
       "      <th>name</th>\n",
       "      <th>tbl_name</th>\n",
       "      <th>rootpage</th>\n",
       "      <th>sql</th>\n",
       "    </tr>\n",
       "  </thead>\n",
       "  <tbody>\n",
       "    <tr>\n",
       "      <th>0</th>\n",
       "      <td>table</td>\n",
       "      <td>Cats</td>\n",
       "      <td>Cats</td>\n",
       "      <td>2</td>\n",
       "      <td>CREATE TABLE Cats(\\n                       cat...</td>\n",
       "    </tr>\n",
       "    <tr>\n",
       "      <th>1</th>\n",
       "      <td>table</td>\n",
       "      <td>Customers</td>\n",
       "      <td>Customers</td>\n",
       "      <td>380</td>\n",
       "      <td>CREATE TABLE Customers (\\n                    ...</td>\n",
       "    </tr>\n",
       "    <tr>\n",
       "      <th>2</th>\n",
       "      <td>table</td>\n",
       "      <td>Adoptions</td>\n",
       "      <td>Adoptions</td>\n",
       "      <td>386</td>\n",
       "      <td>CREATE TABLE Adoptions (\\n                    ...</td>\n",
       "    </tr>\n",
       "    <tr>\n",
       "      <th>3</th>\n",
       "      <td>table</td>\n",
       "      <td>Suppliers</td>\n",
       "      <td>Suppliers</td>\n",
       "      <td>392</td>\n",
       "      <td>CREATE TABLE Suppliers (\\n                    ...</td>\n",
       "    </tr>\n",
       "    <tr>\n",
       "      <th>4</th>\n",
       "      <td>table</td>\n",
       "      <td>Food</td>\n",
       "      <td>Food</td>\n",
       "      <td>393</td>\n",
       "      <td>CREATE TABLE Food (\\n                    food_...</td>\n",
       "    </tr>\n",
       "  </tbody>\n",
       "</table>\n",
       "</div>"
      ],
      "text/plain": [
       "    type       name   tbl_name  rootpage  \\\n",
       "0  table       Cats       Cats         2   \n",
       "1  table  Customers  Customers       380   \n",
       "2  table  Adoptions  Adoptions       386   \n",
       "3  table  Suppliers  Suppliers       392   \n",
       "4  table       Food       Food       393   \n",
       "\n",
       "                                                 sql  \n",
       "0  CREATE TABLE Cats(\\n                       cat...  \n",
       "1  CREATE TABLE Customers (\\n                    ...  \n",
       "2  CREATE TABLE Adoptions (\\n                    ...  \n",
       "3  CREATE TABLE Suppliers (\\n                    ...  \n",
       "4  CREATE TABLE Food (\\n                    food_...  "
      ]
     },
     "execution_count": 18,
     "metadata": {},
     "output_type": "execute_result"
    }
   ],
   "source": [
    "sql_pandas(\"\"\" SELECT * FROM sqlite_master\"\"\")"
   ]
  },
  {
   "cell_type": "code",
   "execution_count": 17,
   "id": "fdd3aa89",
   "metadata": {},
   "outputs": [
    {
     "data": {
      "text/html": [
       "<div>\n",
       "<style scoped>\n",
       "    .dataframe tbody tr th:only-of-type {\n",
       "        vertical-align: middle;\n",
       "    }\n",
       "\n",
       "    .dataframe tbody tr th {\n",
       "        vertical-align: top;\n",
       "    }\n",
       "\n",
       "    .dataframe thead th {\n",
       "        text-align: right;\n",
       "    }\n",
       "</style>\n",
       "<table border=\"1\" class=\"dataframe\">\n",
       "  <thead>\n",
       "    <tr style=\"text-align: right;\">\n",
       "      <th></th>\n",
       "      <th>cid</th>\n",
       "      <th>name</th>\n",
       "      <th>type</th>\n",
       "      <th>notnull</th>\n",
       "      <th>dflt_value</th>\n",
       "      <th>pk</th>\n",
       "    </tr>\n",
       "  </thead>\n",
       "  <tbody>\n",
       "    <tr>\n",
       "      <th>0</th>\n",
       "      <td>0</td>\n",
       "      <td>cat_id</td>\n",
       "      <td>INTEGER</td>\n",
       "      <td>0</td>\n",
       "      <td>None</td>\n",
       "      <td>1</td>\n",
       "    </tr>\n",
       "    <tr>\n",
       "      <th>1</th>\n",
       "      <td>1</td>\n",
       "      <td>name</td>\n",
       "      <td>TEXT</td>\n",
       "      <td>0</td>\n",
       "      <td>None</td>\n",
       "      <td>0</td>\n",
       "    </tr>\n",
       "    <tr>\n",
       "      <th>2</th>\n",
       "      <td>2</td>\n",
       "      <td>breed</td>\n",
       "      <td>TEXT</td>\n",
       "      <td>1</td>\n",
       "      <td>None</td>\n",
       "      <td>0</td>\n",
       "    </tr>\n",
       "    <tr>\n",
       "      <th>3</th>\n",
       "      <td>3</td>\n",
       "      <td>temperament</td>\n",
       "      <td>TEXT</td>\n",
       "      <td>1</td>\n",
       "      <td>None</td>\n",
       "      <td>0</td>\n",
       "    </tr>\n",
       "    <tr>\n",
       "      <th>4</th>\n",
       "      <td>4</td>\n",
       "      <td>is_adopted</td>\n",
       "      <td>INTEGER</td>\n",
       "      <td>1</td>\n",
       "      <td>None</td>\n",
       "      <td>0</td>\n",
       "    </tr>\n",
       "  </tbody>\n",
       "</table>\n",
       "</div>"
      ],
      "text/plain": [
       "   cid         name     type  notnull dflt_value  pk\n",
       "0    0       cat_id  INTEGER        0       None   1\n",
       "1    1         name     TEXT        0       None   0\n",
       "2    2        breed     TEXT        1       None   0\n",
       "3    3  temperament     TEXT        1       None   0\n",
       "4    4   is_adopted  INTEGER        1       None   0"
      ]
     },
     "execution_count": 17,
     "metadata": {},
     "output_type": "execute_result"
    }
   ],
   "source": [
    "sql_pandas(\"\"\" PRAGMA table_info(Cats)\"\"\")"
   ]
  },
  {
   "cell_type": "markdown",
   "id": "473c6c7e",
   "metadata": {},
   "source": [
    "Syntax \n",
    "\n",
    "**SELECT** COLUMN NAMES (or * for everything)\n",
    "\n",
    "**FROM** TABLE NAME\n",
    "\n",
    "**JOIN** OTHER TABLE NAME ON WHAT COLUMNS\n",
    "\n",
    "**WHERE** CONDITION\n",
    "\n",
    "**GROUP BY** COLUMN NAME\n"
   ]
  },
  {
   "cell_type": "code",
   "execution_count": null,
   "id": "314d74ba",
   "metadata": {},
   "outputs": [],
   "source": []
  },
  {
   "cell_type": "markdown",
   "id": "31c45c8a",
   "metadata": {},
   "source": [
    "## Quest 1: The New Arrivals (Difficulty: ⭐️)\n",
    "A new litter of kittens has arrived! They are two ginger tabby sisters named Ginger and Spice. They're both Playful and are not yet adopted. Add them to the Cats table."
   ]
  },
  {
   "cell_type": "code",
   "execution_count": null,
   "id": "221e2eb1",
   "metadata": {},
   "outputs": [],
   "source": []
  },
  {
   "cell_type": "markdown",
   "id": "8ed94540",
   "metadata": {},
   "source": [
    "## Quest 2: Finding a Forever Home (Difficulty: ⭐️)\n",
    "A customer is looking for a cat named Whiskers. Find all the information about Whiskers to see if he is available for adoption."
   ]
  },
  {
   "cell_type": "code",
   "execution_count": null,
   "id": "1a74f9d4",
   "metadata": {},
   "outputs": [],
   "source": []
  },
  {
   "cell_type": "markdown",
   "id": "4dbc137c",
   "metadata": {},
   "source": [
    "## Quest 3: Inventory Check (Difficulty: ⭐️)\n",
    "Our inventory is running low on a specific treat. Find the stock_quantity of the item named 'Catnip Bites' from the Food table."
   ]
  },
  {
   "cell_type": "code",
   "execution_count": null,
   "id": "f5136ee1",
   "metadata": {},
   "outputs": [],
   "source": []
  },
  {
   "cell_type": "markdown",
   "id": "86f3c10f",
   "metadata": {},
   "source": [
    "## Quest 4: The Adoption Rush (Difficulty: ⭐️⭐️)\n",
    "The cafe is having an adoption event! We need to know which cats have already been adopted. Find the name and breed of all cats where is_adopted is 1."
   ]
  },
  {
   "cell_type": "code",
   "execution_count": null,
   "id": "608fa7ce",
   "metadata": {},
   "outputs": [],
   "source": []
  },
  {
   "cell_type": "markdown",
   "id": "d58170ca",
   "metadata": {},
   "source": [
    "## Quest 5: The Catnip Shortage (Difficulty: ⭐️⭐️)\n",
    "We need to place an order for our treats. Find the total stock quantity of all items in the Treat category."
   ]
  },
  {
   "cell_type": "code",
   "execution_count": null,
   "id": "c0d64559",
   "metadata": {},
   "outputs": [],
   "source": []
  },
  {
   "cell_type": "markdown",
   "id": "ad31e718",
   "metadata": {},
   "source": [
    "## Quest 6: Cat Cafe Menu (Difficulty: ⭐️⭐️)\n",
    "A customer wants to see all the food items available. Show them all items from the Food table, but order them from the highest price to the lowest price."
   ]
  },
  {
   "cell_type": "code",
   "execution_count": null,
   "id": "d28b8a11",
   "metadata": {},
   "outputs": [],
   "source": []
  },
  {
   "cell_type": "markdown",
   "id": "051abb2c",
   "metadata": {},
   "source": [
    "## Quest 7: New Customer Registration (Difficulty: ⭐️⭐️)\n",
    "A new customer, Jane Doe, with the email jane.doe@email.com just signed up. Add her to the Customers table."
   ]
  },
  {
   "cell_type": "code",
   "execution_count": null,
   "id": "cded0b03",
   "metadata": {},
   "outputs": [],
   "source": []
  },
  {
   "cell_type": "markdown",
   "id": "90540821",
   "metadata": {},
   "source": [
    "## Quest 8: Updating a Misdemeanor (Difficulty: ⭐️⭐️⭐️)\n",
    "Oops! One of the cat temperaments was recorded incorrectly. The cat named Mittens is actually Reserved, not Energetic. Update his temperament in the Cats table."
   ]
  },
  {
   "cell_type": "code",
   "execution_count": null,
   "id": "0615c3bb",
   "metadata": {},
   "outputs": [],
   "source": []
  },
  {
   "cell_type": "markdown",
   "id": "0a83286c",
   "metadata": {},
   "source": [
    "## Quest 9: The First Adoptee (Difficulty: ⭐️⭐️⭐️)\n",
    "Luna was our first cat to find a home! Record her adoption. Luna's cat_id is 2 and she was adopted by Alice Johnson (customer_id 101) on the date '2025-01-15'. Add this new record to the Adoptions table."
   ]
  },
  {
   "cell_type": "code",
   "execution_count": null,
   "id": "18416ff5",
   "metadata": {},
   "outputs": [],
   "source": []
  },
  {
   "cell_type": "markdown",
   "id": "6552fb30",
   "metadata": {},
   "source": [
    "## Quest 10: Supplier Spotlight (Difficulty: ⭐️⭐️⭐️)\n",
    "The cafe wants to promote its local suppliers. We need a list of all food items and the name of their supplier. This requires you to JOIN the Food and Suppliers tables. Display the name of the food and the supplier_name."
   ]
  },
  {
   "cell_type": "code",
   "execution_count": null,
   "id": "d4c50d79",
   "metadata": {},
   "outputs": [],
   "source": []
  },
  {
   "cell_type": "markdown",
   "id": "65e91a0b",
   "metadata": {},
   "source": [
    "## Quest 11: The Busiest Month (Difficulty: ⭐️⭐️⭐️⭐️)\n",
    "Management wants to know how many adoptions happened each month. Group the adoptions by adoption_date and count how many occurred on each date."
   ]
  },
  {
   "cell_type": "code",
   "execution_count": null,
   "id": "817c8258",
   "metadata": {},
   "outputs": [],
   "source": []
  },
  {
   "cell_type": "markdown",
   "id": "57d23240",
   "metadata": {},
   "source": [
    "## Quest 12: Average Meal Price (Difficulty: ⭐️⭐️⭐️⭐️)\n",
    "What is the average price of all Wet Food? Find the average price of items where the category is 'Wet Food'."
   ]
  },
  {
   "cell_type": "code",
   "execution_count": null,
   "id": "22f0c8fe",
   "metadata": {},
   "outputs": [],
   "source": []
  },
  {
   "cell_type": "markdown",
   "id": "d4a6a592",
   "metadata": {},
   "source": [
    "## Quest 13: Customer-Cat Connection (Difficulty: ⭐️⭐️⭐️⭐️)\n",
    "Management wants a full picture of our adoptions. Find the name of the customer and the name of the cat they adopted. This requires a JOIN across three tables: Customers, Adoptions, and Cats."
   ]
  },
  {
   "cell_type": "code",
   "execution_count": null,
   "id": "2edd2d60",
   "metadata": {},
   "outputs": [],
   "source": []
  },
  {
   "cell_type": "markdown",
   "id": "5594d28e",
   "metadata": {},
   "source": [
    "## Quest 14: High-Value Inventory (Difficulty: ⭐️⭐️⭐️⭐️⭐️)\n",
    "Some inventory items are more valuable than others. Find the category and name of all food items where the stock_quantity is less than 50 and the price is greater than 3.00."
   ]
  },
  {
   "cell_type": "code",
   "execution_count": null,
   "id": "14969700",
   "metadata": {},
   "outputs": [],
   "source": []
  },
  {
   "cell_type": "markdown",
   "id": "44bd67ca",
   "metadata": {},
   "source": [
    "## Quest 15: The Unadoptables (Difficulty: ⭐️⭐️⭐️⭐️⭐️)\n",
    "Which cats have not been adopted yet and are in need of a home? Find the name and temperament of all cats that have not been adopted (is_adopted is 0), and order them alphabetically by name."
   ]
  },
  {
   "cell_type": "code",
   "execution_count": null,
   "id": "a80f18ce",
   "metadata": {},
   "outputs": [],
   "source": []
  }
 ],
 "metadata": {
  "kernelspec": {
   "display_name": "Python 3",
   "language": "python",
   "name": "python3"
  },
  "language_info": {
   "codemirror_mode": {
    "name": "ipython",
    "version": 3
   },
   "file_extension": ".py",
   "mimetype": "text/x-python",
   "name": "python",
   "nbconvert_exporter": "python",
   "pygments_lexer": "ipython3",
   "version": "3.13.5"
  }
 },
 "nbformat": 4,
 "nbformat_minor": 5
}
